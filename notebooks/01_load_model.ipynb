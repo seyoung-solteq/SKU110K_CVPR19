{
 "cells": [
  {
   "cell_type": "code",
   "execution_count": 1,
   "metadata": {},
   "outputs": [
    {
     "name": "stderr",
     "output_type": "stream",
     "text": [
      "Using TensorFlow backend.\n"
     ]
    }
   ],
   "source": [
    "%reload_ext autoreload\n",
    "%autoreload 2\n",
    "%matplotlib inline\n",
    "\n",
    "# from __future__ import print_function\n",
    "\n",
    "import os\n",
    "import sys\n",
    "\n",
    "import keras\n",
    "import tensorflow as tf\n",
    "\n",
    "\n",
    "from object_detector_retinanet.keras_retinanet import models\n",
    "from object_detector_retinanet.keras_retinanet.preprocessing.csv_generator import CSVGenerator\n",
    "from object_detector_retinanet.keras_retinanet.utils.predict_iou import predict\n",
    "from object_detector_retinanet.keras_retinanet.utils.keras_version import check_keras_version\n",
    "from object_detector_retinanet.utils import image_path, annotation_path, root_dir\n",
    "from object_detector_retinanet.keras_retinanet.utils.image import preprocess_image\n",
    "\n",
    "import matplotlib.pyplot as plt\n",
    "\n",
    "import csv\n",
    "\n",
    "import datetime\n",
    "\n",
    "from object_detector_retinanet.keras_retinanet.utils import EmMerger\n",
    "from object_detector_retinanet.utils import create_folder, root_dir\n",
    "from object_detector_retinanet.keras_retinanet.utils.visualization import draw_detections, draw_annotations\n",
    "\n",
    "import numpy as np\n",
    "\n",
    "import cv2\n",
    "\n",
    "save_path = \"/usr/src/app/predictions/\"\n",
    "hard_score_rate = 0.5\n",
    "csv_data_lst = []\n",
    "csv_data_lst.append(['image_id', 'x1', 'y1', 'x2', 'y2', 'confidence', 'hard_score'])\n",
    "score_threshold = 0.1\n",
    "max_detections = 9999"
   ]
  },
  {
   "cell_type": "code",
   "execution_count": 2,
   "metadata": {},
   "outputs": [
    {
     "name": "stdout",
     "output_type": "stream",
     "text": [
      "WARNING:tensorflow:From /usr/local/lib/python3.6/dist-packages/keras/backend/tensorflow_backend.py:541: The name tf.placeholder is deprecated. Please use tf.compat.v1.placeholder instead.\n",
      "\n",
      "WARNING:tensorflow:From /usr/local/lib/python3.6/dist-packages/keras/backend/tensorflow_backend.py:4409: The name tf.random_normal is deprecated. Please use tf.random.normal instead.\n",
      "\n",
      "WARNING:tensorflow:From /usr/local/lib/python3.6/dist-packages/keras/backend/tensorflow_backend.py:4432: The name tf.random_uniform is deprecated. Please use tf.random.uniform instead.\n",
      "\n",
      "WARNING:tensorflow:From /usr/local/lib/python3.6/dist-packages/keras/backend/tensorflow_backend.py:2139: The name tf.nn.fused_batch_norm is deprecated. Please use tf.compat.v1.nn.fused_batch_norm instead.\n",
      "\n",
      "WARNING:tensorflow:From /usr/local/lib/python3.6/dist-packages/keras/backend/tensorflow_backend.py:4267: The name tf.nn.max_pool is deprecated. Please use tf.nn.max_pool2d instead.\n",
      "\n",
      "WARNING:tensorflow:From /usr/local/lib/python3.6/dist-packages/keras/backend/tensorflow_backend.py:4479: The name tf.truncated_normal is deprecated. Please use tf.random.truncated_normal instead.\n",
      "\n",
      "WARNING:tensorflow:From /usr/src/app/object_detector_retinanet/keras_retinanet/backend/tensorflow_backend.py:56: The name tf.image.resize_images is deprecated. Please use tf.image.resize instead.\n",
      "\n",
      "WARNING:tensorflow:From /usr/local/lib/python3.6/dist-packages/keras/backend/tensorflow_backend.py:190: The name tf.get_default_session is deprecated. Please use tf.compat.v1.get_default_session instead.\n",
      "\n",
      "WARNING:tensorflow:From /usr/local/lib/python3.6/dist-packages/keras/backend/tensorflow_backend.py:197: The name tf.ConfigProto is deprecated. Please use tf.compat.v1.ConfigProto instead.\n",
      "\n",
      "WARNING:tensorflow:From /usr/local/lib/python3.6/dist-packages/keras/backend/tensorflow_backend.py:203: The name tf.Session is deprecated. Please use tf.compat.v1.Session instead.\n",
      "\n",
      "WARNING:tensorflow:From /usr/local/lib/python3.6/dist-packages/keras/backend/tensorflow_backend.py:207: The name tf.global_variables is deprecated. Please use tf.compat.v1.global_variables instead.\n",
      "\n",
      "WARNING:tensorflow:From /usr/local/lib/python3.6/dist-packages/keras/backend/tensorflow_backend.py:216: The name tf.is_variable_initialized is deprecated. Please use tf.compat.v1.is_variable_initialized instead.\n",
      "\n",
      "WARNING:tensorflow:From /usr/local/lib/python3.6/dist-packages/keras/backend/tensorflow_backend.py:223: The name tf.variables_initializer is deprecated. Please use tf.compat.v1.variables_initializer instead.\n",
      "\n"
     ]
    },
    {
     "name": "stderr",
     "output_type": "stream",
     "text": [
      "/usr/local/lib/python3.6/dist-packages/keras/engine/saving.py:310: UserWarning: No training configuration found in save file: the model was *not* compiled. Compile it manually.\n",
      "  warnings.warn('No training configuration found in save file: '\n"
     ]
    },
    {
     "name": "stdout",
     "output_type": "stream",
     "text": [
      "WARNING:tensorflow:From /usr/src/app/object_detector_retinanet/keras_retinanet/backend/tensorflow_backend.py:92: where (from tensorflow.python.ops.array_ops) is deprecated and will be removed in a future version.\n",
      "Instructions for updating:\n",
      "Use tf.where in 2.0, which has the same broadcast rule as np.where\n"
     ]
    }
   ],
   "source": [
    "model = models.load_model(\n",
    "    '/usr/src/app/weights/iou_resnet50_csv_06.h5', \n",
    "    backbone_name='resnet50', \n",
    "    convert=1, \n",
    "    nms=False)"
   ]
  },
  {
   "cell_type": "markdown",
   "metadata": {},
   "source": [
    "We got this warning message when loading the model. \n",
    "\n",
    "> /usr/local/lib/python3.6/dist-packages/keras/engine/saving.py:310: UserWarning: No training configuration found in save file: the model was *not* compiled. Compile it manually.\n",
    "  warnings.warn('No training configuration found in save file: '\n",
    "  \n",
    "We don't know what it means. "
   ]
  },
  {
   "cell_type": "code",
   "execution_count": 48,
   "metadata": {},
   "outputs": [
    {
     "name": "stderr",
     "output_type": "stream",
     "text": [
      "100%|██████████| 150/150 [00:00<00:00, 23036.34it/s]"
     ]
    },
    {
     "name": "stdout",
     "output_type": "stream",
     "text": [
      "Loading images...\n"
     ]
    },
    {
     "name": "stderr",
     "output_type": "stream",
     "text": [
      "\n"
     ]
    }
   ],
   "source": [
    "DATA_PATH = '/usr/src/data/'\n",
    "DATA_PATH = '/usr/src/app/20201117 germany'\n",
    "DATA_PATH = '/usr/src/app/data/kesko'\n",
    "generator = CSVGenerator(\n",
    "            csv_data_file=f'{DATA_PATH}/annotations/annotations_test.csv',\n",
    "            csv_class_file='/usr/src/app/object_detector_retinanet/keras_retinanet/bin/class_mappings.csv',\n",
    "            image_min_side=800,\n",
    "            image_max_side=1333,\n",
    "            base_dir=f'{DATA_PATH}/images',\n",
    "        )"
   ]
  },
  {
   "cell_type": "code",
   "execution_count": 49,
   "metadata": {},
   "outputs": [
    {
     "data": {
      "text/plain": [
       "150"
      ]
     },
     "execution_count": 49,
     "metadata": {},
     "output_type": "execute_result"
    }
   ],
   "source": [
    "generator.size()"
   ]
  },
  {
   "cell_type": "code",
   "execution_count": 50,
   "metadata": {},
   "outputs": [],
   "source": [
    "i = 2\n",
    "image_name = os.path.join(generator.image_path(i).split(os.path.sep)[-2],\n",
    "                                  generator.image_path(i).split(os.path.sep)[-1])\n",
    "raw_image = generator.load_image(i)\n",
    "image = generator.preprocess_image(raw_image.copy())\n",
    "image, scale = generator.resize_image(image)"
   ]
  },
  {
   "cell_type": "code",
   "execution_count": 51,
   "metadata": {},
   "outputs": [
    {
     "name": "stderr",
     "output_type": "stream",
     "text": [
      "Clipping input data to the valid range for imshow with RGB data ([0..1] for floats or [0..255] for integers).\n"
     ]
    },
    {
     "data": {
      "text/plain": [
       "<matplotlib.image.AxesImage at 0x7f64bedc2f28>"
      ]
     },
     "execution_count": 51,
     "metadata": {},
     "output_type": "execute_result"
    },
    {
     "data": {
      "image/png": "[encoded data removed]",
      "text/plain": [
       "<Figure size 432x288 with 1 Axes>"
      ]
     },
     "metadata": {
      "needs_background": "light"
     },
     "output_type": "display_data"
    }
   ],
   "source": [
    "plt.imshow(image)"
   ]
  },
  {
   "cell_type": "code",
   "execution_count": 46,
   "metadata": {},
   "outputs": [],
   "source": [
    "boxes, hard_scores, labels, soft_scores = model.predict_on_batch(np.expand_dims(image, axis=0))"
   ]
  },
  {
   "cell_type": "code",
   "execution_count": 47,
   "metadata": {},
   "outputs": [
    {
     "data": {
      "text/plain": [
       "(1, 999999, 4)"
      ]
     },
     "execution_count": 47,
     "metadata": {},
     "output_type": "execute_result"
    }
   ],
   "source": [
    "boxes.shape"
   ]
  },
  {
   "cell_type": "code",
   "execution_count": 45,
   "metadata": {},
   "outputs": [
    {
     "name": "stdout",
     "output_type": "stream",
     "text": [
      "0 errors happened in shrink_boxes()\n"
     ]
    }
   ],
   "source": [
    "soft_scores = np.squeeze(soft_scores, axis=-1)\n",
    "soft_scores = hard_score_rate * hard_scores + (1 - hard_score_rate) * soft_scores\n",
    "    \n",
    "boxes /= scale\n",
    "\n",
    "# select indices which have a score above the threshold\n",
    "indices = np.where(hard_scores[0, :] > score_threshold)[0]\n",
    "\n",
    "# select those scores\n",
    "scores = soft_scores[0][indices]\n",
    "hard_scores = hard_scores[0][indices]\n",
    "\n",
    "# find the order with which to sort the scores\n",
    "scores_sort = np.argsort(-scores)[:max_detections]\n",
    "\n",
    "# select detections\n",
    "image_boxes = boxes[0, indices[scores_sort], :]\n",
    "image_scores = scores[scores_sort]\n",
    "image_hard_scores = hard_scores[scores_sort]\n",
    "image_labels = labels[0, indices[scores_sort]]\n",
    "image_detections = np.concatenate(\n",
    "    [image_boxes, np.expand_dims(image_scores, axis=1), np.expand_dims(image_labels, axis=1)], axis=1)\n",
    "results = np.concatenate(\n",
    "    [image_boxes, np.expand_dims(image_scores, axis=1), np.expand_dims(image_hard_scores, axis=1),\n",
    "     np.expand_dims(image_labels, axis=1)], axis=1)\n",
    "filtered_data = EmMerger.merge_detections(image_name, results)\n",
    "filtered_boxes = []\n",
    "filtered_scores = []\n",
    "filtered_labels = []\n",
    "\n",
    "for _, detection in filtered_data.iterrows():\n",
    "    box = np.asarray([detection['x1'], detection['y1'], detection['x2'], detection['y2']])\n",
    "    filtered_boxes.append(box)\n",
    "    filtered_scores.append(detection['confidence'])\n",
    "    filtered_labels.append('{0:.2f}'.format(detection['hard_score']))\n",
    "    row = [image_name, detection['x1'], detection['y1'], detection['x2'], detection['y2'],\n",
    "           detection['confidence'], detection['hard_score']]\n",
    "    csv_data_lst.append(row)\n",
    "\n",
    "if save_path is not None:\n",
    "    create_folder(save_path)\n",
    "\n",
    "    draw_annotations(raw_image, generator.load_annotations(i), label_to_name=generator.label_to_name)\n",
    "    draw_detections(raw_image, np.asarray(filtered_boxes), np.asarray(filtered_scores),\n",
    "                    np.asarray(filtered_labels), color=(0, 0, 255))\n",
    "\n",
    "    cv2.imwrite(os.path.join(save_path, '{}.png'.format(i)), raw_image)\n",
    "\n"
   ]
  },
  {
   "cell_type": "markdown",
   "metadata": {},
   "source": [
    "## Loop"
   ]
  },
  {
   "cell_type": "code",
   "execution_count": null,
   "metadata": {},
   "outputs": [
    {
     "name": "stdout",
     "output_type": "stream",
     "text": [
      "0 errors happened in shrink_boxes()\n",
      "0 errors happened in shrink_boxes()\n",
      "0 errors happened in shrink_boxes()\n",
      "0 errors happened in shrink_boxes()\n",
      "0 errors happened in shrink_boxes()\n",
      "EM did not converge- using fallback\n",
      "0 errors happened in shrink_boxes()\n",
      "0 errors happened in shrink_boxes()\n",
      "0 errors happened in shrink_boxes()\n",
      "0 errors happened in shrink_boxes()\n",
      "0 errors happened in shrink_boxes()\n",
      "0 errors happened in shrink_boxes()\n",
      "0 errors happened in shrink_boxes()\n",
      "0 errors happened in shrink_boxes()\n",
      "agglomerative_init Timeout - using fallback\n",
      "975 21  k<=Params.min_k or EM failed\n",
      "0 errors happened in shrink_boxes()\n",
      "0 errors happened in shrink_boxes()\n",
      "0 errors happened in shrink_boxes()\n",
      "0 errors happened in shrink_boxes()\n",
      "0 errors happened in shrink_boxes()\n",
      "0 errors happened in shrink_boxes()\n",
      "0 errors happened in shrink_boxes()\n",
      "0 errors happened in shrink_boxes()\n",
      "EM did not converge- using fallback\n",
      "0 errors happened in shrink_boxes()\n",
      "0 errors happened in shrink_boxes()\n",
      "0 errors happened in shrink_boxes()\n",
      "0 errors happened in shrink_boxes()\n",
      "0 errors happened in shrink_boxes()\n",
      "0 errors happened in shrink_boxes()\n",
      "0 errors happened in shrink_boxes()\n",
      "0 errors happened in shrink_boxes()\n",
      "0 errors happened in shrink_boxes()\n",
      "agglomerative_init Timeout - using fallback\n",
      "986 20  k<=Params.min_k or EM failed\n",
      "0 errors happened in shrink_boxes()\n",
      "0 errors happened in shrink_boxes()\n",
      "0 errors happened in shrink_boxes()\n",
      "0 errors happened in shrink_boxes()\n",
      "0 errors happened in shrink_boxes()\n",
      "0 errors happened in shrink_boxes()\n",
      "EM did not converge- using fallback\n",
      "0 errors happened in shrink_boxes()\n",
      "0 errors happened in shrink_boxes()\n",
      "0 errors happened in shrink_boxes()\n",
      "EM did not converge- using fallback\n",
      "0 errors happened in shrink_boxes()\n",
      "0 errors happened in shrink_boxes()\n",
      "0 errors happened in shrink_boxes()\n",
      "0 errors happened in shrink_boxes()\n",
      "0 errors happened in shrink_boxes()\n",
      "0 errors happened in shrink_boxes()\n",
      "0 errors happened in shrink_boxes()\n",
      "0 errors happened in shrink_boxes()\n",
      "0 errors happened in shrink_boxes()\n",
      "0 errors happened in shrink_boxes()\n",
      "0 errors happened in shrink_boxes()\n",
      "0 errors happened in shrink_boxes()\n",
      "0 errors happened in shrink_boxes()\n",
      "0 errors happened in shrink_boxes()\n",
      "0 errors happened in shrink_boxes()\n",
      "0 errors happened in shrink_boxes()\n",
      "0 errors happened in shrink_boxes()\n",
      "0 errors happened in shrink_boxes()\n",
      "0 errors happened in shrink_boxes()\n",
      "0 errors happened in shrink_boxes()\n",
      "0 errors happened in shrink_boxes()\n",
      "0 errors happened in shrink_boxes()\n",
      "0 errors happened in shrink_boxes()\n",
      "0 errors happened in shrink_boxes()\n",
      "0 errors happened in shrink_boxes()\n",
      "0 errors happened in shrink_boxes()\n",
      "0 errors happened in shrink_boxes()\n",
      "0 errors happened in shrink_boxes()\n",
      "0 errors happened in shrink_boxes()\n",
      "0 errors happened in shrink_boxes()\n",
      "0 errors happened in shrink_boxes()\n",
      "0 errors happened in shrink_boxes()\n",
      "0 errors happened in shrink_boxes()\n",
      "0 errors happened in shrink_boxes()\n",
      "0 errors happened in shrink_boxes()\n",
      "0 errors happened in shrink_boxes()\n",
      "0 errors happened in shrink_boxes()\n"
     ]
    }
   ],
   "source": [
    "for i in range(generator.size()):\n",
    "    image_name = os.path.join(generator.image_path(i).split(os.path.sep)[-2],\n",
    "                              generator.image_path(i).split(os.path.sep)[-1])\n",
    "    raw_image = generator.load_image(i)\n",
    "    image = generator.preprocess_image(raw_image.copy())\n",
    "    image, scale = generator.resize_image(image)\n",
    "\n",
    "    # run network\n",
    "    boxes, hard_scores, labels, soft_scores = model.predict_on_batch(np.expand_dims(image, axis=0))\n",
    "    soft_scores = np.squeeze(soft_scores, axis=-1)\n",
    "    soft_scores = hard_score_rate * hard_scores + (1 - hard_score_rate) * soft_scores\n",
    "    # correct boxes for image scale\n",
    "    boxes /= scale\n",
    "\n",
    "    # select indices which have a score above the threshold\n",
    "    indices = np.where(hard_scores[0, :] > score_threshold)[0]\n",
    "\n",
    "    # select those scores\n",
    "    scores = soft_scores[0][indices]\n",
    "    hard_scores = hard_scores[0][indices]\n",
    "\n",
    "    # find the order with which to sort the scores\n",
    "    scores_sort = np.argsort(-scores)[:max_detections]\n",
    "\n",
    "    # select detections\n",
    "    image_boxes = boxes[0, indices[scores_sort], :]\n",
    "    image_scores = scores[scores_sort]\n",
    "    image_hard_scores = hard_scores[scores_sort]\n",
    "    image_labels = labels[0, indices[scores_sort]]\n",
    "    image_detections = np.concatenate(\n",
    "        [image_boxes, np.expand_dims(image_scores, axis=1), np.expand_dims(image_labels, axis=1)], axis=1)\n",
    "    results = np.concatenate(\n",
    "        [image_boxes, np.expand_dims(image_scores, axis=1), np.expand_dims(image_hard_scores, axis=1),\n",
    "         np.expand_dims(image_labels, axis=1)], axis=1)\n",
    "    filtered_data = EmMerger.merge_detections(image_name, results)\n",
    "    filtered_boxes = []\n",
    "    filtered_scores = []\n",
    "    filtered_labels = []\n",
    "\n",
    "    for _, detection in filtered_data.iterrows():\n",
    "        box = np.asarray([detection['x1'], detection['y1'], detection['x2'], detection['y2']])\n",
    "        filtered_boxes.append(box)\n",
    "        filtered_scores.append(detection['confidence'])\n",
    "        filtered_labels.append('{0:.2f}'.format(detection['hard_score']))\n",
    "        row = [image_name, detection['x1'], detection['y1'], detection['x2'], detection['y2'],\n",
    "               detection['confidence'], detection['hard_score']]\n",
    "        csv_data_lst.append(row)\n",
    "\n",
    "    if save_path is not None:\n",
    "        create_folder(save_path)\n",
    "\n",
    "        draw_annotations(raw_image, generator.load_annotations(i), label_to_name=generator.label_to_name)\n",
    "        draw_detections(raw_image, np.asarray(filtered_boxes), np.asarray(filtered_scores),\n",
    "                        np.asarray(filtered_labels), color=(0, 0, 255))\n",
    "\n",
    "        cv2.imwrite(os.path.join(save_path, '{}.jpg'.format(i)), raw_image)\n",
    "    "
   ]
  },
  {
   "cell_type": "code",
   "execution_count": null,
   "metadata": {},
   "outputs": [],
   "source": []
  }
 ],
 "metadata": {
  "kernelspec": {
   "display_name": "Python 3",
   "language": "python",
   "name": "python3"
  },
  "language_info": {
   "codemirror_mode": {
    "name": "ipython",
    "version": 3
   },
   "file_extension": ".py",
   "mimetype": "text/x-python",
   "name": "python",
   "nbconvert_exporter": "python",
   "pygments_lexer": "ipython3",
   "version": "3.6.9"
  }
 },
 "nbformat": 4,
 "nbformat_minor": 4
}
